{
 "cells": [
  {
   "cell_type": "code",
   "execution_count": 157,
   "metadata": {},
   "outputs": [],
   "source": [
    "import requests\n",
    "import urllib.request\n",
    "import pickle\n",
    "from bs4 import BeautifulSoup\n",
    "import csv\n",
    "import os\n",
    "import string\n"
   ]
  },
  {
   "cell_type": "code",
   "execution_count": 158,
   "metadata": {},
   "outputs": [],
   "source": []
  },
  {
   "cell_type": "code",
   "execution_count": 159,
   "metadata": {},
   "outputs": [],
   "source": [
    "def getResponse(letter):\n",
    "    url = 'https://www.sup.org/search/authors/?letter=' + letter\n",
    "    response = requests.get(url)\n",
    "    if response:\n",
    "        print(\"yay! page download for \" + letter +\" : ok!\")\n",
    "    soup = BeautifulSoup(response.text, 'html.parser')\n",
    "    return soup"
   ]
  },
  {
   "cell_type": "code",
   "execution_count": 160,
   "metadata": {},
   "outputs": [],
   "source": [
    "def addNames(soupObj):\n",
    "    authors = soupObj.findAll('div', class_=\"author-browse\")\n",
    "    for au in authors:\n",
    "        listChildren = list(au.children)\n",
    "        a = listChildren[0].strip()\n",
    "        if len(a) > 0: #has author name\n",
    "            uniqueNames.append([a,listChildren[3].get_text()])  #adds to global list\n",
    "        elif len(a) == 0: #\n",
    "            uniqueNames[len(uniqueNames)-1].append(listChildren[1].get_text())"
   ]
  },
  {
   "cell_type": "code",
   "execution_count": 162,
   "metadata": {},
   "outputs": [],
   "source": [
    "def saveAllAuthorsCSV_temp():\n",
    "    with open('./authorNames.csv', 'w', newline='') as csvfile:\n",
    "        authorWriter = csv.writer(csvfile, delimiter='\\t')\n",
    "        for au in uniqueNames:\n",
    "            authorWriter.writerow(au)"
   ]
  },
  {
   "cell_type": "code",
   "execution_count": 163,
   "metadata": {},
   "outputs": [],
   "source": [
    "def pickleAuthors():\n",
    "    pickle.dump(uniqueNames, open(\"./authorPickle\", \"wb\"))"
   ]
  },
  {
   "cell_type": "code",
   "execution_count": 164,
   "metadata": {},
   "outputs": [],
   "source": [
    "\n",
    "###run every couple hours?\n",
    "def unpickleAuthors():\n",
    "    names = pickle.load(open(\"./authorPickle\", \"rb\"))"
   ]
  },
  {
   "cell_type": "code",
   "execution_count": 165,
   "metadata": {},
   "outputs": [],
   "source": [
    "def getSplit(splitSize):\n",
    "    totalLength = len(names)\n",
    "    splits = [(x,x+splitSize) \n",
    "              if x+splitSize < 4150 \n",
    "              else (x, 4125) \n",
    "              for x in range(0, totalLength, splitSize)]\n",
    "    return splits"
   ]
  },
  {
   "cell_type": "code",
   "execution_count": 172,
   "metadata": {},
   "outputs": [],
   "source": [
    "def saveSplitCSVs(splits):\n",
    "    fileBase = './authorNameSplit'\n",
    "    for i,s in enumerate(splits):\n",
    "        file = fileBase + str(i) + '.csv'\n",
    "        with open(file, 'w', newline='') as csvfile:\n",
    "            authorWriter = csv.writer(csvfile, delimiter='\\t')\n",
    "            for au in names[s[0]:s[1]]:\n",
    "                authorWriter.writerow(au)\n",
    "        "
   ]
  },
  {
   "cell_type": "code",
   "execution_count": 191,
   "metadata": {},
   "outputs": [],
   "source": [
    "def retrievePopulate(splitNo):\n",
    "    fileBase = './authorNameSplit'\n",
    "    file = fileBase + str(splitNo) + '.csv'\n",
    "    \n",
    "    #generate files\n",
    "    finalBase = './authorsCSV'\n",
    "    final = finalBase + str(splitNo) + '.csv'\n",
    "    finalCSV = open(final, \"w+\") ##CREATE new file to populate with CSV info\n",
    "    finalCSVwriter = csv.writer(finalCSV, delimiter='\\t')\n",
    "    #populate it in the following format:\n",
    "    #AUTHOR TITLE YEAR CITATION\n",
    "    \n",
    "    errorBase = './errorsCSV'\n",
    "    error = errorBase + str(splitNo) + '.csv'\n",
    "    errorCSV = open(error, \"w+\") ##CREATE new file for ones with errors\n",
    "    errorCSVwriter = csv.writer(errorCSV, delimiter='\\t')\n",
    "    \n",
    "    \n",
    "    print(file)\n",
    "    with open(file, 'r') as csvfile:\n",
    "        authorReader = csv.reader(csvfile, delimiter='\\t')\n",
    "        for line in authorReader:\n",
    "            if len(line) <= 2:\n",
    "                #just one book\n",
    "                author = line[0]\n",
    "                book = line[1]\n",
    "                write2CSV(author, book, finalCSVwriter, errorCSVwriter)\n",
    "            elif len(line) > 2:\n",
    "                author = line[0]\n",
    "                for b in range(len(line)-1):\n",
    "                    write2CSV(author, line[b+1], finalCSVwriter, errorCSVwriter)\n",
    "                #more than one book\n",
    "    \n",
    "    #close both files\n",
    "    close(final)\n",
    "    close(error)"
   ]
  },
  {
   "cell_type": "code",
   "execution_count": 192,
   "metadata": {},
   "outputs": [],
   "source": [
    "def write2CSV(author, book, finalCSVwriter, errorCSVwriter): #input list form\n",
    "    book = book.lower().translate(str.maketrans('', '', string.punctuation))\n",
    "    print(book)\n",
    "    year, cites = retrieveScholarInfo(author, book)\n",
    "    finalCSVwriter.writerow([author, book, year, cites])\n",
    "    if year==None and cities==None:\n",
    "        errorCSVwriter.writerow([author, book])"
   ]
  },
  {
   "cell_type": "code",
   "execution_count": 196,
   "metadata": {},
   "outputs": [],
   "source": [
    "def retrieveScholarInfo(name, book):\n",
    "    var = !python scholar.py --author $name --phrase $book --pub \"Stanford University Press\" --csv \n",
    "    print(var)\n",
    "    if 'Traceback' in var[0]: #exception handling: write to error csv\n",
    "        return None, None\n",
    "    print(var[0])\n",
    "    return var[0].split(\"|\")[2], var[0].split(\"|\")[3]\n",
    "    "
   ]
  },
  {
   "cell_type": "code",
   "execution_count": 194,
   "metadata": {},
   "outputs": [
    {
     "name": "stdout",
     "output_type": "stream",
     "text": [
      "yay! page download for A : ok!\n",
      "yay! page download for B : ok!\n",
      "yay! page download for C : ok!\n",
      "yay! page download for D : ok!\n",
      "yay! page download for E : ok!\n",
      "yay! page download for F : ok!\n",
      "yay! page download for G : ok!\n",
      "yay! page download for H : ok!\n",
      "yay! page download for I : ok!\n",
      "yay! page download for J : ok!\n",
      "yay! page download for K : ok!\n",
      "yay! page download for L : ok!\n",
      "yay! page download for M : ok!\n",
      "yay! page download for N : ok!\n",
      "yay! page download for O : ok!\n",
      "yay! page download for P : ok!\n",
      "yay! page download for Q : ok!\n",
      "yay! page download for R : ok!\n",
      "yay! page download for S : ok!\n",
      "yay! page download for T : ok!\n",
      "yay! page download for U : ok!\n",
      "yay! page download for V : ok!\n",
      "yay! page download for W : ok!\n",
      "yay! page download for X : ok!\n",
      "yay! page download for Y : ok!\n",
      "yay! page download for Z : ok!\n"
     ]
    }
   ],
   "source": [
    "##### MAIN: setup ####\n",
    "\n",
    "\n",
    "alpha = \"ABCDEFGHIJKLMNOPQRSTUVWXYZ\"\n",
    "uniqueNames = []\n",
    "#remove prev files: \n",
    "!rm *.csv\n",
    "#loop through all alphabet chars\n",
    "for char in alpha:\n",
    "    soup = getResponse(char)\n",
    "    addNames(soup)\n",
    "pickleAuthors()\n",
    "saveAllAuthorsCSV_temp()\n",
    "splits = getSplit(10)\n",
    "saveSplitCSVs(splits)\n"
   ]
  },
  {
   "cell_type": "code",
   "execution_count": 197,
   "metadata": {},
   "outputs": [
    {
     "name": "stdout",
     "output_type": "stream",
     "text": [
      "./authorNameSplit0.csv\n",
      "marine algae of california\n",
      "[]\n"
     ]
    },
    {
     "ename": "IndexError",
     "evalue": "list index out of range",
     "output_type": "error",
     "traceback": [
      "\u001b[0;31m---------------------------------------------------------------------------\u001b[0m",
      "\u001b[0;31mIndexError\u001b[0m                                Traceback (most recent call last)",
      "\u001b[0;32m<ipython-input-197-c7465c532936>\u001b[0m in \u001b[0;36m<module>\u001b[0;34m\u001b[0m\n\u001b[1;32m      2\u001b[0m \u001b[0;34m\u001b[0m\u001b[0m\n\u001b[1;32m      3\u001b[0m \u001b[0msplitNo\u001b[0m \u001b[0;34m=\u001b[0m \u001b[0;36m0\u001b[0m\u001b[0;34m\u001b[0m\u001b[0m\n\u001b[0;32m----> 4\u001b[0;31m \u001b[0mretrievePopulate\u001b[0m\u001b[0;34m(\u001b[0m\u001b[0msplitNo\u001b[0m\u001b[0;34m)\u001b[0m\u001b[0;34m\u001b[0m\u001b[0m\n\u001b[0m",
      "\u001b[0;32m<ipython-input-191-5fa7e47d4cff>\u001b[0m in \u001b[0;36mretrievePopulate\u001b[0;34m(splitNo)\u001b[0m\n\u001b[1;32m     25\u001b[0m                 \u001b[0mauthor\u001b[0m \u001b[0;34m=\u001b[0m \u001b[0mline\u001b[0m\u001b[0;34m[\u001b[0m\u001b[0;36m0\u001b[0m\u001b[0;34m]\u001b[0m\u001b[0;34m\u001b[0m\u001b[0m\n\u001b[1;32m     26\u001b[0m                 \u001b[0mbook\u001b[0m \u001b[0;34m=\u001b[0m \u001b[0mline\u001b[0m\u001b[0;34m[\u001b[0m\u001b[0;36m1\u001b[0m\u001b[0;34m]\u001b[0m\u001b[0;34m\u001b[0m\u001b[0m\n\u001b[0;32m---> 27\u001b[0;31m                 \u001b[0mwrite2CSV\u001b[0m\u001b[0;34m(\u001b[0m\u001b[0mauthor\u001b[0m\u001b[0;34m,\u001b[0m \u001b[0mbook\u001b[0m\u001b[0;34m,\u001b[0m \u001b[0mfinalCSVwriter\u001b[0m\u001b[0;34m,\u001b[0m \u001b[0merrorCSVwriter\u001b[0m\u001b[0;34m)\u001b[0m\u001b[0;34m\u001b[0m\u001b[0m\n\u001b[0m\u001b[1;32m     28\u001b[0m             \u001b[0;32melif\u001b[0m \u001b[0mlen\u001b[0m\u001b[0;34m(\u001b[0m\u001b[0mline\u001b[0m\u001b[0;34m)\u001b[0m \u001b[0;34m>\u001b[0m \u001b[0;36m2\u001b[0m\u001b[0;34m:\u001b[0m\u001b[0;34m\u001b[0m\u001b[0m\n\u001b[1;32m     29\u001b[0m                 \u001b[0mauthor\u001b[0m \u001b[0;34m=\u001b[0m \u001b[0mline\u001b[0m\u001b[0;34m[\u001b[0m\u001b[0;36m0\u001b[0m\u001b[0;34m]\u001b[0m\u001b[0;34m\u001b[0m\u001b[0m\n",
      "\u001b[0;32m<ipython-input-192-a4281dbf2147>\u001b[0m in \u001b[0;36mwrite2CSV\u001b[0;34m(author, book, finalCSVwriter, errorCSVwriter)\u001b[0m\n\u001b[1;32m      2\u001b[0m     \u001b[0mbook\u001b[0m \u001b[0;34m=\u001b[0m \u001b[0mbook\u001b[0m\u001b[0;34m.\u001b[0m\u001b[0mlower\u001b[0m\u001b[0;34m(\u001b[0m\u001b[0;34m)\u001b[0m\u001b[0;34m.\u001b[0m\u001b[0mtranslate\u001b[0m\u001b[0;34m(\u001b[0m\u001b[0mstr\u001b[0m\u001b[0;34m.\u001b[0m\u001b[0mmaketrans\u001b[0m\u001b[0;34m(\u001b[0m\u001b[0;34m''\u001b[0m\u001b[0;34m,\u001b[0m \u001b[0;34m''\u001b[0m\u001b[0;34m,\u001b[0m \u001b[0mstring\u001b[0m\u001b[0;34m.\u001b[0m\u001b[0mpunctuation\u001b[0m\u001b[0;34m)\u001b[0m\u001b[0;34m)\u001b[0m\u001b[0;34m\u001b[0m\u001b[0m\n\u001b[1;32m      3\u001b[0m     \u001b[0mprint\u001b[0m\u001b[0;34m(\u001b[0m\u001b[0mbook\u001b[0m\u001b[0;34m)\u001b[0m\u001b[0;34m\u001b[0m\u001b[0m\n\u001b[0;32m----> 4\u001b[0;31m     \u001b[0myear\u001b[0m\u001b[0;34m,\u001b[0m \u001b[0mcites\u001b[0m \u001b[0;34m=\u001b[0m \u001b[0mretrieveScholarInfo\u001b[0m\u001b[0;34m(\u001b[0m\u001b[0mauthor\u001b[0m\u001b[0;34m,\u001b[0m \u001b[0mbook\u001b[0m\u001b[0;34m)\u001b[0m\u001b[0;34m\u001b[0m\u001b[0m\n\u001b[0m\u001b[1;32m      5\u001b[0m     \u001b[0mfinalCSVwriter\u001b[0m\u001b[0;34m.\u001b[0m\u001b[0mwriterow\u001b[0m\u001b[0;34m(\u001b[0m\u001b[0;34m[\u001b[0m\u001b[0mauthor\u001b[0m\u001b[0;34m,\u001b[0m \u001b[0mbook\u001b[0m\u001b[0;34m,\u001b[0m \u001b[0myear\u001b[0m\u001b[0;34m,\u001b[0m \u001b[0mcites\u001b[0m\u001b[0;34m]\u001b[0m\u001b[0;34m)\u001b[0m\u001b[0;34m\u001b[0m\u001b[0m\n\u001b[1;32m      6\u001b[0m     \u001b[0;32mif\u001b[0m \u001b[0myear\u001b[0m\u001b[0;34m==\u001b[0m\u001b[0;32mNone\u001b[0m \u001b[0;32mand\u001b[0m \u001b[0mcities\u001b[0m\u001b[0;34m==\u001b[0m\u001b[0;32mNone\u001b[0m\u001b[0;34m:\u001b[0m\u001b[0;34m\u001b[0m\u001b[0m\n",
      "\u001b[0;32m<ipython-input-196-390300b7ab9e>\u001b[0m in \u001b[0;36mretrieveScholarInfo\u001b[0;34m(name, book)\u001b[0m\n\u001b[1;32m      2\u001b[0m     \u001b[0mvar\u001b[0m \u001b[0;34m=\u001b[0m \u001b[0mget_ipython\u001b[0m\u001b[0;34m(\u001b[0m\u001b[0;34m)\u001b[0m\u001b[0;34m.\u001b[0m\u001b[0mgetoutput\u001b[0m\u001b[0;34m(\u001b[0m\u001b[0;34m'python scholar.py --author $name --phrase $book --pub \"Stanford University Press\" --csv '\u001b[0m\u001b[0;34m)\u001b[0m\u001b[0;34m\u001b[0m\u001b[0m\n\u001b[1;32m      3\u001b[0m     \u001b[0mprint\u001b[0m\u001b[0;34m(\u001b[0m\u001b[0mvar\u001b[0m\u001b[0;34m)\u001b[0m\u001b[0;34m\u001b[0m\u001b[0m\n\u001b[0;32m----> 4\u001b[0;31m     \u001b[0;32mif\u001b[0m \u001b[0;34m'Traceback'\u001b[0m \u001b[0;32min\u001b[0m \u001b[0mvar\u001b[0m\u001b[0;34m[\u001b[0m\u001b[0;36m0\u001b[0m\u001b[0;34m]\u001b[0m\u001b[0;34m:\u001b[0m \u001b[0;31m#exception handling: write to error csv\u001b[0m\u001b[0;34m\u001b[0m\u001b[0m\n\u001b[0m\u001b[1;32m      5\u001b[0m         \u001b[0;32mreturn\u001b[0m \u001b[0;32mNone\u001b[0m\u001b[0;34m,\u001b[0m \u001b[0;32mNone\u001b[0m\u001b[0;34m\u001b[0m\u001b[0m\n\u001b[1;32m      6\u001b[0m     \u001b[0mprint\u001b[0m\u001b[0;34m(\u001b[0m\u001b[0mvar\u001b[0m\u001b[0;34m[\u001b[0m\u001b[0;36m0\u001b[0m\u001b[0;34m]\u001b[0m\u001b[0;34m)\u001b[0m\u001b[0;34m\u001b[0m\u001b[0m\n",
      "\u001b[0;31mIndexError\u001b[0m: list index out of range"
     ]
    }
   ],
   "source": [
    "##### MAIN: piecemeal grab ####\n",
    "\n",
    "splitNo = 0\n",
    "retrievePopulate(splitNo)\n"
   ]
  },
  {
   "cell_type": "code",
   "execution_count": null,
   "metadata": {},
   "outputs": [],
   "source": []
  }
 ],
 "metadata": {
  "kernelspec": {
   "display_name": "sup",
   "language": "python",
   "name": "sup"
  },
  "language_info": {
   "codemirror_mode": {
    "name": "ipython",
    "version": 3
   },
   "file_extension": ".py",
   "mimetype": "text/x-python",
   "name": "python",
   "nbconvert_exporter": "python",
   "pygments_lexer": "ipython3",
   "version": "3.6.5"
  }
 },
 "nbformat": 4,
 "nbformat_minor": 2
}
